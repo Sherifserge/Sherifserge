{
  "nbformat": 4,
  "nbformat_minor": 0,
  "metadata": {
    "colab": {
      "provenance": [],
      "authorship_tag": "ABX9TyPsu8nOHs9oBY9GuKyPHPIc",
      "include_colab_link": true
    },
    "kernelspec": {
      "name": "python3",
      "display_name": "Python 3"
    },
    "language_info": {
      "name": "python"
    }
  },
  "cells": [
    {
      "cell_type": "markdown",
      "metadata": {
        "id": "view-in-github",
        "colab_type": "text"
      },
      "source": [
        "<a href=\"https://colab.research.google.com/github/Sherifserge/Sherifserge/blob/main/benz.ipynb\" target=\"_parent\"><img src=\"https://colab.research.google.com/assets/colab-badge.svg\" alt=\"Open In Colab\"/></a>"
      ]
    },
    {
      "cell_type": "code",
      "execution_count": 18,
      "metadata": {
        "id": "Kh2WknS6o43q"
      },
      "outputs": [],
      "source": [
        "class benz:\n",
        "    def __init__(self, color, body_type, engine_type, special_features):\n",
        "        self.color = color\n",
        "        self.body_type = body_type\n",
        "        self.engine_type = engine_type\n",
        "        self.special_features = special_features\n",
        "\n",
        "    def __str__(self):\n",
        "        return f\"A {self.body_type} in {self.color} with a {self.engine_type} engine and {self.special_features}.\"\n",
        "\n",
        "\n",
        "class C300(benz):\n",
        "     def __init__(self, color='black', body_type='saloon', engine_type='2.0litre_V2', special_features='open_roof'):\n",
        "        super().__init__(color, body_type, engine_type, special_features)\n",
        "\n",
        "     def __str__(self):\n",
        "          return f\"C300 is {self.color} with {self.body_type} has {self.engine_type} and {self.special_features}\"\n",
        "\n",
        "class E350(benz):\n",
        "     def __init__(self, color='black', body_type='saloon', engine_type='2.0litre_V2', special_features='open_roof'):\n",
        "        super().__init__(color, body_type, engine_type, special_features)\n",
        "\n",
        "     def __str__(self):\n",
        "        return f\"E350 is {self.color} with {self.body_type} has {self.engine_type} and {self.special_features}\"\n",
        "\n",
        "\n",
        "class CLS250(benz):\n",
        "     def __init__(self, color='black', body_type='saloon', engine_type='2.0litre_V2', special_features='open_roof'):\n",
        "        super().__init__(color, body_type, engine_type, special_features)\n",
        "\n",
        "     def __str__(self):\n",
        "        return f\"CLS250 is {self.color} with {self.body_type} has {self.engine_type} and {self.special_features}\"\n",
        "\n",
        "\n",
        "class GLC300(benz):\n",
        "     def __init__(self, color, body_type='SUV', engine_type='3.0litre_V6', special_features='panorama_glass'):\n",
        "        # Handle the two gold and one silver color requirement for SUVs\n",
        "        if color not in ['gold', 'silver']:\n",
        "            raise ValueError(\"GLC300 color must be either 'gold' or 'silver'\")\n",
        "        super().__init__(color, body_type, engine_type, special_features)\n",
        "\n",
        "\n",
        "     def __str__(self):\n",
        "        return f\"GLC300 is {self.color} with {self.body_type} has {self.engine_type} and {self.special_features}\"\n",
        "\n",
        "\n",
        "class GLE53(benz):\n",
        "     def __init__(self, color, body_type='SUV', engine_type='3.0litre_V6', special_features='panorama_glass'):\n",
        "        # Handle the two gold and one silver color requirement for SUVs\n",
        "        if color not in ['gold', 'silver']:\n",
        "            raise ValueError(\"GLE53 color must be either 'gold' or 'silver'\")\n",
        "        super().__init__(color, body_type, engine_type, special_features)\n",
        "\n",
        "     def __str__(self):\n",
        "        return f\"GLE53 is {self.color} with {self.body_type} has {self.engine_type} and {self.special_features}\""
      ]
    },
    {
      "cell_type": "code",
      "source": [],
      "metadata": {
        "id": "7oR_QDO8uVvm"
      },
      "execution_count": null,
      "outputs": []
    },
    {
      "cell_type": "code",
      "metadata": {
        "colab": {
          "base_uri": "https://localhost:8080/"
        },
        "id": "2a688ecd",
        "outputId": "b9b83641-13bd-4c8f-ed9c-d7cff043ad2b"
      },
      "source": [
        "# Create a C300 instance (Saloon) - color can be anything\n",
        "my_c300 = C300(color='blue')\n",
        "print(my_c300)\n",
        "\n",
        "# Create a GLC300 instance (SUV) with a valid color\n",
        "my_glc300_gold = GLC300(color='gold')\n",
        "print(my_glc300_gold)\n",
        "\n",
        "# Create another GLC300 instance (SUV) with a valid color\n",
        "my_glc300_silver = GLC300(color='silver')\n",
        "print(my_glc300_silver)\n",
        "\n",
        "# Attempt to create a GLC300 instance with an invalid color to show the error\n",
        "try:\n",
        "    my_glc300_red = GLC300(color='red')\n",
        "    print(my_glc300_red)\n",
        "except ValueError as e:\n",
        "    print(f\"Caught expected error: {e}\")"
      ],
      "execution_count": 19,
      "outputs": [
        {
          "output_type": "stream",
          "name": "stdout",
          "text": [
            "C300 is blue with saloon has 2.0litre_V2 and open_roof\n",
            "GLC300 is gold with SUV has 3.0litre_V6 and panorama_glass\n",
            "GLC300 is silver with SUV has 3.0litre_V6 and panorama_glass\n",
            "Caught expected error: GLC300 color must be either 'gold' or 'silver'\n"
          ]
        }
      ]
    }
  ]
}